{
 "cells": [
  {
   "cell_type": "code",
   "execution_count": 1,
   "metadata": {},
   "outputs": [
    {
     "data": {
      "text/plain": [
       "ruleGen (generic function with 1 method)"
      ]
     },
     "execution_count": 1,
     "metadata": {},
     "output_type": "execute_result"
    }
   ],
   "source": [
    "function ruleGen(rule::Int)\n",
    "    rule = digits(rule, base=2, pad=8)\n",
    "    rules = Dict{Array{Bool,1}, Bool}()\n",
    "    \n",
    "    for i in 0:7\n",
    "        x = digits(i, base=2, pad=3)\n",
    "        #println(rule[i+1], \" -> \", x)\n",
    "        rules[[x[3], x[2], x[1]]] = rule[i+1]\n",
    "    end\n",
    "    \n",
    "    return rules\n",
    "end"
   ]
  },
  {
   "cell_type": "code",
   "execution_count": 3,
   "metadata": {},
   "outputs": [
    {
     "data": {
      "text/plain": [
       "CA (generic function with 2 methods)"
      ]
     },
     "execution_count": 3,
     "metadata": {},
     "output_type": "execute_result"
    }
   ],
   "source": [
    "function CA(rule::Int, seed::Array{Bool,1}, iterations::Int)\n",
    "    if !(rule >= 0 && rule <= 255)\n",
    "        error(\"Incorrect rule [0-255]\")\n",
    "    end\n",
    "    \n",
    "    if (iterations < 1)\n",
    "        error(\"Must have positive iterations.\")\n",
    "    end\n",
    "    \n",
    "    rules = ruleGen(rule)\n",
    "    \n",
    "    n = length(seed)\n",
    "    result = falses(n,iterations+1)\n",
    "    state = falses(3)\n",
    "    \n",
    "    result[:,1] = seed\n",
    "    \n",
    "    for it in 2:iterations+1\n",
    "        for i in 1:n\n",
    "            left = mod1(i-1, n)\n",
    "            right = mod1(i+1, n)\n",
    "            \n",
    "            state[1] = result[left, it-1]\n",
    "            state[2] = result[i, it-1]\n",
    "            state[3] = result[right, it-1]\n",
    "            \n",
    "            result[i, it] = rules[state]\n",
    "        end\n",
    "    end\n",
    "    \n",
    "    return result\n",
    "end\n",
    "\n",
    "function CA(rule::Int, seed::BitArray{1}, iterations::Int)\n",
    "    seed = convert(Array{Bool,1}, seed)\n",
    "    \n",
    "    return CA(rule, seed, iterations)\n",
    "end"
   ]
  },
  {
   "cell_type": "code",
   "execution_count": 4,
   "metadata": {},
   "outputs": [
    {
     "data": {
      "text/plain": [
       "resistance (generic function with 1 method)"
      ]
     },
     "execution_count": 4,
     "metadata": {},
     "output_type": "execute_result"
    }
   ],
   "source": [
    "function resistance(caState::BitArray{2}, resistanceMat::Array{<:Real,2})\n",
    "    for i in resistanceMat\n",
    "        if i == 0.0\n",
    "            error(\"Resistance matrix must be on positive domain\")\n",
    "        end\n",
    "    end\n",
    "    \n",
    "    if size(caState) != size(resistanceMat)\n",
    "        error(\"CA State and Resistance state have size mismatch.\")\n",
    "    end\n",
    "    \n",
    "    invsum = Float64(0.0)\n",
    "    \n",
    "    for i in 1:length(resistanceMat)\n",
    "        if caState[i]\n",
    "            invsum += 1/resistanceMat[i]\n",
    "        end\n",
    "    end\n",
    "    \n",
    "    if invsum != 0\n",
    "        return 1/invsum\n",
    "    else\n",
    "        return Inf\n",
    "    end\n",
    "end"
   ]
  },
  {
   "cell_type": "code",
   "execution_count": 5,
   "metadata": {},
   "outputs": [
    {
     "name": "stderr",
     "output_type": "stream",
     "text": [
      "┌ Info: Recompiling stale cache file /home/wilkie/.julia/compiled/v0.7/PyPlot/oatAj.ji for PyPlot [d330b81b-6aea-500a-939a-2ce795aea3ee]\n",
      "└ @ Base loading.jl:1185\n"
     ]
    }
   ],
   "source": [
    "using PyPlot, Optim"
   ]
  },
  {
   "cell_type": "code",
   "execution_count": 27,
   "metadata": {},
   "outputs": [
    {
     "data": {
      "text/plain": [
       "linear_fitness (generic function with 1 method)"
      ]
     },
     "execution_count": 27,
     "metadata": {},
     "output_type": "execute_result"
    }
   ],
   "source": [
    "function linear_fitness(r::Array{<:Real,1})\n",
    "    n = 8\n",
    "    rule = 90\n",
    "    \n",
    "    if length(r) != n^2\n",
    "        error(\"Wrong resistance matrix length.\")\n",
    "    end\n",
    "    \n",
    "    \n",
    "    #set up the low values\n",
    "    a = [falses(n) for i in 1:3]\n",
    "    a[1][end] = true\n",
    "    a[2][end-1] = true\n",
    "    a[3][end-1:end] .= true\n",
    "    \n",
    "    #set up the high values\n",
    "    b = [trues(n) for i in 1:3]\n",
    "    b[1][end] = false\n",
    "    b[2][end-1] = false\n",
    "    b[3][end-1:end] .= false\n",
    "    \n",
    "    ca_a = [CA(rule, a[i], n-1) for i in 1:3]\n",
    "    ca_b = [CA(rule, b[i], n-1) for i in 1:3]\n",
    "\n",
    "    r_a = [resistance(ca_a[i], reshape(r,n,n)) for i in 1:3]\n",
    "    r_b = [resistance(ca_b[i], reshape(r,n,n)) for i in 1:3]\n",
    "    \n",
    "    distance = 0.0\n",
    "    for i in 1:3, j in 1:3\n",
    "        distance += abs(r_a[i] - r_b[j])\n",
    "    end\n",
    "\n",
    "    return -1*distance\n",
    "end\n"
   ]
  },
  {
   "cell_type": "code",
   "execution_count": 42,
   "metadata": {},
   "outputs": [
    {
     "data": {
      "text/plain": [
       "linear_verify (generic function with 1 method)"
      ]
     },
     "execution_count": 42,
     "metadata": {},
     "output_type": "execute_result"
    }
   ],
   "source": [
    "function linear_verify(r::Array{<:Real,1})\n",
    "    n = 8\n",
    "    rule = 90\n",
    "    \n",
    "    if length(r) != n^2\n",
    "        error(\"Wrong resistance matrix length.\")\n",
    "    end\n",
    "    \n",
    "    \n",
    "    #set up the low values\n",
    "    a = [falses(n) for i in 1:3]\n",
    "    a[1][end] = true\n",
    "    a[2][end-1] = true\n",
    "    a[3][end-1:end] .= true\n",
    "    \n",
    "    #set up the high values\n",
    "    b = [trues(n) for i in 1:3]\n",
    "    b[1][end] = false\n",
    "    b[2][end-1] = false\n",
    "    b[3][end-1:end] .= false\n",
    "    \n",
    "    ca_a = [CA(rule, a[i], n-1) for i in 1:3]\n",
    "    ca_b = [CA(rule, b[i], n-1) for i in 1:3]\n",
    "\n",
    "    r_a = [resistance(ca_a[i], reshape(r,n,n)) for i in 1:3]\n",
    "    r_b = [resistance(ca_b[i], reshape(r,n,n)) for i in 1:3]\n",
    "    \n",
    "    return (r_a, r_b)\n",
    "end"
   ]
  },
  {
   "cell_type": "code",
   "execution_count": 28,
   "metadata": {},
   "outputs": [
    {
     "data": {
      "text/plain": [
       "-0.34141414141414145"
      ]
     },
     "execution_count": 28,
     "metadata": {},
     "output_type": "execute_result"
    }
   ],
   "source": [
    "linear_fitness(ones(64))"
   ]
  },
  {
   "cell_type": "code",
   "execution_count": 30,
   "metadata": {},
   "outputs": [
    {
     "data": {
      "text/plain": [
       "-0.1192684259947934"
      ]
     },
     "execution_count": 30,
     "metadata": {},
     "output_type": "execute_result"
    }
   ],
   "source": [
    "linear_fitness(rand(64))"
   ]
  },
  {
   "cell_type": "code",
   "execution_count": 32,
   "metadata": {},
   "outputs": [],
   "source": [
    "lower = ones(Float64, 64) .* 4000\n",
    "upper = ones(Float64, 64) .* 12000;"
   ]
  },
  {
   "cell_type": "code",
   "execution_count": 34,
   "metadata": {},
   "outputs": [
    {
     "data": {
      "text/plain": [
       "Results of Optimization Algorithm\n",
       " * Algorithm: Fminbox with L-BFGS\n",
       " * Starting Point: [10291.09916800766,6912.321983501185, ...]\n",
       " * Minimizer: [8988.685628582261,4000.288590863426, ...]\n",
       " * Minimum: -4.982981e+03\n",
       " * Iterations: 10\n",
       " * Convergence: true\n",
       "   * |x - x'| ≤ 0.0e+00: true \n",
       "     |x - x'| = 0.00e+00 \n",
       "   * |f(x) - f(x')| ≤ 0.0e+00 |f(x)|: true\n",
       "     |f(x) - f(x')| = 0.00e+00 |f(x)|\n",
       "   * |g(x)| ≤ 1.0e-08: false \n",
       "     |g(x)| = 1.18e-01 \n",
       "   * Stopped by an increasing objective: true\n",
       "   * Reached Maximum Number of Iterations: false\n",
       " * Objective Calls: 33082\n",
       " * Gradient Calls: 33082"
      ]
     },
     "execution_count": 34,
     "metadata": {},
     "output_type": "execute_result"
    }
   ],
   "source": [
    "test = optimize(linear_fitness, lower, upper, rand(64) .* 8000 .+ 4000)"
   ]
  },
  {
   "cell_type": "code",
   "execution_count": 35,
   "metadata": {},
   "outputs": [
    {
     "data": {
      "text/plain": [
       "\"Fminbox with L-BFGS\""
      ]
     },
     "execution_count": 35,
     "metadata": {},
     "output_type": "execute_result"
    }
   ],
   "source": [
    "summary(test)"
   ]
  },
  {
   "cell_type": "code",
   "execution_count": 38,
   "metadata": {},
   "outputs": [
    {
     "data": {
      "text/plain": [
       "8×8 Array{Float64,2}:\n",
       "  8988.69  11184.8   12000.0   10421.1   …  11202.9    7354.98  5361.73\n",
       "  4000.29   6961.26  10791.3   12000.0       8064.69   5863.48  5931.23\n",
       "  4000.0    5996.01   9306.07  11153.1       8573.55   7443.63  4353.57\n",
       "  4000.0    6267.52   6993.19  12000.0       9417.15  10474.5   9073.21\n",
       "  4288.11  10100.0   10794.7    9869.38      5903.7    5338.55  7630.34\n",
       " 10222.4   10238.0    9310.72  10221.5   …   7649.48  10268.6   8382.09\n",
       " 12000.0   10004.4    8414.8    9501.16      8766.68   8752.43  8822.86\n",
       " 12000.0   12000.0    7224.58  11603.0       7508.23  10464.0   4093.63"
      ]
     },
     "execution_count": 38,
     "metadata": {},
     "output_type": "execute_result"
    }
   ],
   "source": [
    "r1 = reshape(Optim.minimizer(test), 8, 8)"
   ]
  },
  {
   "cell_type": "code",
   "execution_count": 41,
   "metadata": {},
   "outputs": [
    {
     "data": {
      "text/plain": [
       "2-element view(::BitArray{1}, 7:8) with eltype Bool:\n",
       " false\n",
       " false"
      ]
     },
     "execution_count": 41,
     "metadata": {},
     "output_type": "execute_result"
    }
   ],
   "source": [
    "#set up the low values\n",
    "a = [falses(8) for i in 1:3]\n",
    "a[1][end] = true\n",
    "a[2][end-1] = true\n",
    "a[3][end-1:end] .= true\n",
    "\n",
    "#set up the high values\n",
    "b = [trues(8) for i in 1:3]\n",
    "b[1][end] = false\n",
    "b[2][end-1] = false\n",
    "b[3][end-1:end] .= false"
   ]
  },
  {
   "cell_type": "code",
   "execution_count": 39,
   "metadata": {},
   "outputs": [
    {
     "data": {
      "image/png": "[encoded data removed]",
      "text/plain": [
       "Figure(PyObject <matplotlib.figure.Figure object at 0x7f35445cd4a8>)"
      ]
     },
     "metadata": {},
     "output_type": "display_data"
    },
    {
     "data": {
      "text/plain": [
       "PyObject <matplotlib.collections.QuadMesh object at 0x7f3522153710>"
      ]
     },
     "execution_count": 39,
     "metadata": {},
     "output_type": "execute_result"
    }
   ],
   "source": [
    "pcolormesh(r1)"
   ]
  },
  {
   "cell_type": "code",
   "execution_count": 45,
   "metadata": {},
   "outputs": [
    {
     "data": {
      "text/plain": [
       "([1156.12, 1264.22, 603.879], [486.092, 504.22, 372.918])"
      ]
     },
     "execution_count": 45,
     "metadata": {},
     "output_type": "execute_result"
    }
   ],
   "source": [
    "(linlow, linhigh) = linear_verify(vec(r1))"
   ]
  },
  {
   "cell_type": "code",
   "execution_count": 47,
   "metadata": {},
   "outputs": [
    {
     "data": {
      "image/png": "[encoded data removed]",
      "text/plain": [
       "Figure(PyObject <matplotlib.figure.Figure object at 0x7f3509e17c88>)"
      ]
     },
     "metadata": {},
     "output_type": "display_data"
    },
    {
     "data": {
      "text/plain": [
       "1-element Array{PyCall.PyObject,1}:\n",
       " PyObject <matplotlib.lines.Line2D object at 0x7f3509e02a58>"
      ]
     },
     "execution_count": 47,
     "metadata": {},
     "output_type": "execute_result"
    }
   ],
   "source": [
    "plot(1:3, linlow)\n",
    "plot(1:3, linhigh)"
   ]
  },
  {
   "cell_type": "code",
   "execution_count": 57,
   "metadata": {},
   "outputs": [
    {
     "data": {
      "image/png": "[encoded data removed]",
      "text/plain": [
       "Figure(PyObject <matplotlib.figure.Figure object at 0x7f3509b979b0>)"
      ]
     },
     "metadata": {},
     "output_type": "display_data"
    },
    {
     "data": {
      "text/plain": [
       "PyObject <matplotlib.legend.Legend object at 0x7f3509c0d2e8>"
      ]
     },
     "execution_count": 57,
     "metadata": {},
     "output_type": "execute_result"
    }
   ],
   "source": [
    "plot(1:3, linlow, label=\"Class 1\")\n",
    "plot(1:3, linhigh, label=\"Class 2\")\n",
    "ylabel(\"Reservoir Resistance\")\n",
    "xticks(collect(1:3), collect(1:3))\n",
    "plot([1,3],[550,550],c=\"r\",label=\"Boundary\")\n",
    "xlabel(\"Trial\")\n",
    "legend()"
   ]
  },
  {
   "cell_type": "code",
   "execution_count": null,
   "metadata": {},
   "outputs": [],
   "source": []
  },
  {
   "cell_type": "code",
   "execution_count": 48,
   "metadata": {},
   "outputs": [
    {
     "data": {
      "text/plain": [
       "Results of Optimization Algorithm\n",
       " * Algorithm: Fminbox with L-BFGS\n",
       " * Starting Point: [6634.957562703715,5153.331762482784, ...]\n",
       " * Minimizer: [4000.0000000000005,4000.0000000000005, ...]\n",
       " * Minimum: -6.274510e+03\n",
       " * Iterations: 8\n",
       " * Convergence: true\n",
       "   * |x - x'| ≤ 0.0e+00: true \n",
       "     |x - x'| = 0.00e+00 \n",
       "   * |f(x) - f(x')| ≤ 0.0e+00 |f(x)|: true\n",
       "     |f(x) - f(x')| = 0.00e+00 |f(x)|\n",
       "   * |g(x)| ≤ 1.0e-08: false \n",
       "     |g(x)| = 9.74e-02 \n",
       "   * Stopped by an increasing objective: true\n",
       "   * Reached Maximum Number of Iterations: false\n",
       " * Objective Calls: 105461\n",
       " * Gradient Calls: 105461"
      ]
     },
     "execution_count": 48,
     "metadata": {},
     "output_type": "execute_result"
    }
   ],
   "source": [
    "test2 = optimize(linear_fitness, lower, upper, rand(64) .* 4000 .+ 4000)"
   ]
  },
  {
   "cell_type": "code",
   "execution_count": 49,
   "metadata": {},
   "outputs": [
    {
     "data": {
      "text/plain": [
       "8×8 Array{Float64,2}:\n",
       "  4000.0  12000.0   12000.0   12000.0  8003.3   7997.93  7999.42  8001.44\n",
       "  4000.0   8001.27  12000.0   12000.0  7998.72  7997.85  7998.15  8000.75\n",
       "  4000.0   7998.32   7999.6   12000.0  8000.64  7999.94  7998.73  7998.54\n",
       "  4000.0   7999.76   7996.01  12000.0  7998.88  8000.34  7998.1   7999.87\n",
       "  4000.0   8000.64  12000.0   12000.0  7998.48  8002.41  7998.47  7998.34\n",
       "  4000.0  12000.0   12000.0   12000.0  8001.4   8000.57  7997.85  8002.76\n",
       " 12000.0  12000.0    7999.32  12000.0  7999.34  8001.34  8001.16  8001.53\n",
       " 12000.0  12000.0    8000.78  12000.0  7999.61  7997.54  7998.0   8000.18"
      ]
     },
     "execution_count": 49,
     "metadata": {},
     "output_type": "execute_result"
    }
   ],
   "source": [
    "r2 = reshape(Optim.minimizer(test2), 8, 8)"
   ]
  },
  {
   "cell_type": "code",
   "execution_count": 50,
   "metadata": {},
   "outputs": [
    {
     "data": {
      "text/plain": [
       "([1333.33, 1333.33, 666.667], [444.444, 444.444, 352.941])"
      ]
     },
     "execution_count": 50,
     "metadata": {},
     "output_type": "execute_result"
    }
   ],
   "source": [
    " linear_verify(vec(r2))"
   ]
  },
  {
   "cell_type": "code",
   "execution_count": null,
   "metadata": {},
   "outputs": [],
   "source": []
  }
 ],
 "metadata": {
  "kernelspec": {
   "display_name": "Julia 0.7.0",
   "language": "julia",
   "name": "julia-0.7"
  },
  "language_info": {
   "file_extension": ".jl",
   "mimetype": "application/julia",
   "name": "julia",
   "version": "0.7.0"
  }
 },
 "nbformat": 4,
 "nbformat_minor": 2
}
