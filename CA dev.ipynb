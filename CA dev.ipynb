{
 "cells": [
  {
   "cell_type": "code",
   "execution_count": 13,
   "metadata": {},
   "outputs": [],
   "source": [
    "using PyPlot"
   ]
  },
  {
   "cell_type": "code",
   "execution_count": 15,
   "metadata": {},
   "outputs": [
    {
     "data": {
      "text/plain": [
       "8-element Array{Int64,1}:\n",
       " 0\n",
       " 0\n",
       " 1\n",
       " 1\n",
       " 1\n",
       " 1\n",
       " 0\n",
       " 0"
      ]
     },
     "execution_count": 15,
     "metadata": {},
     "output_type": "execute_result"
    }
   ],
   "source": [
    "r60 = digits(60, base=2, pad=8)"
   ]
  },
  {
   "cell_type": "code",
   "execution_count": 18,
   "metadata": {},
   "outputs": [
    {
     "data": {
      "text/plain": [
       "0"
      ]
     },
     "execution_count": 18,
     "metadata": {},
     "output_type": "execute_result"
    }
   ],
   "source": [
    "r60[2]"
   ]
  },
  {
   "cell_type": "code",
   "execution_count": null,
   "metadata": {},
   "outputs": [],
   "source": []
  },
  {
   "cell_type": "code",
   "execution_count": 5,
   "metadata": {},
   "outputs": [
    {
     "data": {
      "text/plain": [
       "ruleGen (generic function with 1 method)"
      ]
     },
     "execution_count": 5,
     "metadata": {},
     "output_type": "execute_result"
    }
   ],
   "source": [
    "function ruleGen(rule::Int)\n",
    "    rule = digits(rule, base=2, pad=8)\n",
    "    rules = Dict{Array{Bool,1}, Bool}()\n",
    "    \n",
    "    for i in 0:7\n",
    "        x = digits(i, base=2, pad=3)\n",
    "        #println(rule[i+1], \" -> \", x)\n",
    "        rules[[x[3], x[2], x[1]]] = rule[i+1]\n",
    "    end\n",
    "    \n",
    "    return rules\n",
    "end"
   ]
  },
  {
   "cell_type": "code",
   "execution_count": 78,
   "metadata": {},
   "outputs": [
    {
     "name": "stdout",
     "output_type": "stream",
     "text": [
      "0 -> [0, 0, 0]\n",
      "0 -> [1, 0, 0]\n",
      "1 -> [0, 1, 0]\n",
      "1 -> [1, 1, 0]\n",
      "1 -> [0, 0, 1]\n",
      "1 -> [1, 0, 1]\n",
      "0 -> [0, 1, 1]\n",
      "0 -> [1, 1, 1]\n"
     ]
    },
    {
     "data": {
      "text/plain": [
       "Dict{Array{Bool,1},Bool} with 8 entries:\n",
       "  Bool[true, true, false]   => false\n",
       "  Bool[false, false, false] => false\n",
       "  Bool[true, false, false]  => true\n",
       "  Bool[false, true, true]   => true\n",
       "  Bool[true, false, true]   => true\n",
       "  Bool[false, false, true]  => false\n",
       "  Bool[true, true, true]    => false\n",
       "  Bool[false, true, false]  => true"
      ]
     },
     "execution_count": 78,
     "metadata": {},
     "output_type": "execute_result"
    }
   ],
   "source": [
    "ruleGen(60)"
   ]
  },
  {
   "cell_type": "code",
   "execution_count": 63,
   "metadata": {},
   "outputs": [
    {
     "data": {
      "text/plain": [
       "CA (generic function with 2 methods)"
      ]
     },
     "execution_count": 63,
     "metadata": {},
     "output_type": "execute_result"
    }
   ],
   "source": [
    "function CA(rule::Int, seed::Array{Bool,1}, iterations::Int)\n",
    "    if !(rule >= 0 && rule <= 255)\n",
    "        error(\"Incorrect rule [0-255]\")\n",
    "    end\n",
    "    \n",
    "    if (iterations < 1)\n",
    "        error(\"Must have positive iterations.\")\n",
    "    end\n",
    "    \n",
    "    rules = ruleGen(rule)\n",
    "    \n",
    "    n = length(seed)\n",
    "    result = falses(iterations+1, n)\n",
    "    state = falses(3)\n",
    "    \n",
    "    result[1,:] = seed\n",
    "    \n",
    "    for it in 2:iterations+1\n",
    "        for i in 1:n\n",
    "            left = mod1(i-1, n)\n",
    "            right = mod1(i+1, n)\n",
    "            \n",
    "            state[1] = result[it-1, left]\n",
    "            state[2] = result[it-1, i]\n",
    "            state[3] = result[it-1, right]\n",
    "            \n",
    "            result[it, i] = rules[state]\n",
    "        end\n",
    "    end\n",
    "    \n",
    "    return result\n",
    "end"
   ]
  },
  {
   "cell_type": "code",
   "execution_count": 7,
   "metadata": {},
   "outputs": [
    {
     "data": {
      "text/plain": [
       "CA (generic function with 2 methods)"
      ]
     },
     "execution_count": 7,
     "metadata": {},
     "output_type": "execute_result"
    }
   ],
   "source": [
    "function CA(rule::Int, seed::BitArray{1}, iterations::Int)\n",
    "    seed = convert(Array{Bool,1}, seed)\n",
    "    \n",
    "    return CA(rule, seed, iterations)\n",
    "end"
   ]
  },
  {
   "cell_type": "code",
   "execution_count": 64,
   "metadata": {},
   "outputs": [
    {
     "name": "stdout",
     "output_type": "stream",
     "text": [
      "  0.152004 seconds (250.06 k allocations: 12.465 MiB)\n"
     ]
    },
    {
     "data": {
      "text/plain": [
       "8×7 BitArray{2}:\n",
       " false   true  false   true  false  false  false\n",
       " false   true   true   true   true  false  false\n",
       " false   true  false  false  false   true  false\n",
       " false   true   true  false  false   true   true\n",
       "  true   true  false   true  false   true  false\n",
       "  true  false   true   true   true   true   true\n",
       " false   true   true  false  false  false  false\n",
       " false   true  false   true  false  false  false"
      ]
     },
     "execution_count": 64,
     "metadata": {},
     "output_type": "execute_result"
    }
   ],
   "source": [
    "@time r60t = CA(60, [false, true, false, true, false, false, false], 7)"
   ]
  },
  {
   "cell_type": "code",
   "execution_count": 65,
   "metadata": {},
   "outputs": [
    {
     "data": {
      "image/png": "[encoded data removed]",
      "text/plain": [
       "Figure(PyObject <matplotlib.figure.Figure object at 0x7fdf2a4533c8>)"
      ]
     },
     "metadata": {},
     "output_type": "display_data"
    },
    {
     "data": {
      "text/plain": [
       "PyObject <matplotlib.image.AxesImage object at 0x7fdf20205320>"
      ]
     },
     "execution_count": 65,
     "metadata": {},
     "output_type": "execute_result"
    }
   ],
   "source": [
    "imshow(r60t)"
   ]
  },
  {
   "cell_type": "code",
   "execution_count": 95,
   "metadata": {},
   "outputs": [
    {
     "data": {
      "image/png": "[encoded data removed]",
      "text/plain": [
       "Figure(PyObject <matplotlib.figure.Figure object at 0x7f9e397bdc18>)"
      ]
     },
     "metadata": {},
     "output_type": "display_data"
    },
    {
     "data": {
      "text/plain": [
       "PyObject <matplotlib.image.AxesImage object at 0x7f9e39734a90>"
      ]
     },
     "execution_count": 95,
     "metadata": {},
     "output_type": "execute_result"
    }
   ],
   "source": [
    "imshow(CA(60, rand(Bool, 20), 20)')"
   ]
  },
  {
   "cell_type": "code",
   "execution_count": 96,
   "metadata": {},
   "outputs": [
    {
     "data": {
      "image/png": "[encoded data removed]",
      "text/plain": [
       "Figure(PyObject <matplotlib.figure.Figure object at 0x7f9e39759438>)"
      ]
     },
     "metadata": {},
     "output_type": "display_data"
    },
    {
     "data": {
      "text/plain": [
       "PyObject <matplotlib.image.AxesImage object at 0x7f9e3969cf60>"
      ]
     },
     "execution_count": 96,
     "metadata": {},
     "output_type": "execute_result"
    }
   ],
   "source": [
    "imshow(CA(30, rand(Bool, 20), 20)')"
   ]
  },
  {
   "cell_type": "code",
   "execution_count": 103,
   "metadata": {
    "collapsed": true
   },
   "outputs": [
    {
     "data": {
      "text/plain": [
       "20×20 BitArray{2}:\n",
       "  true   true  false   true  false  …   true   true  false   true   true\n",
       "  true  false   true   true  false     false   true  false  false  false\n",
       " false  false   true  false   true     false  false  false   true   true\n",
       "  true   true   true  false   true     false   true   true   true  false\n",
       " false   true  false   true   true      true   true  false   true  false\n",
       " false   true  false  false   true  …  false   true  false  false  false\n",
       "  true   true  false  false   true     false  false  false   true   true\n",
       "  true  false  false   true   true     false   true   true   true  false\n",
       " false   true   true   true  false      true   true  false  false  false\n",
       " false  false  false  false  false      true  false   true   true   true\n",
       " false   true   true   true   true  …  false  false   true  false   true\n",
       "  true   true  false   true  false      true   true   true  false  false\n",
       " false   true  false  false   true      true  false   true  false  false\n",
       " false   true  false  false   true     false  false   true  false  false\n",
       "  true   true  false   true   true      true   true   true  false  false\n",
       "  true  false   true   true  false  …   true  false  false  false   true\n",
       "  true  false  false  false  false     false   true   true   true   true\n",
       "  true  false   true   true   true     false  false   true  false   true\n",
       " false   true   true  false  false     false  false   true  false  false\n",
       " false   true  false   true   true     false   true   true  false   true"
      ]
     },
     "execution_count": 103,
     "metadata": {},
     "output_type": "execute_result"
    }
   ],
   "source": [
    "testca = CA(30, rand(Bool,20), 19)"
   ]
  },
  {
   "cell_type": "code",
   "execution_count": 97,
   "metadata": {},
   "outputs": [
    {
     "data": {
      "text/plain": [
       "BitArray{2}"
      ]
     },
     "execution_count": 97,
     "metadata": {},
     "output_type": "execute_result"
    }
   ],
   "source": [
    "typeof(r60t)"
   ]
  },
  {
   "cell_type": "code",
   "execution_count": 4,
   "metadata": {},
   "outputs": [
    {
     "data": {
      "text/plain": [
       "resistance (generic function with 1 method)"
      ]
     },
     "execution_count": 4,
     "metadata": {},
     "output_type": "execute_result"
    }
   ],
   "source": [
    "function resistance(caState::BitArray{2}, resistanceMat::Array{<:Real,2})\n",
    "    for i in resistanceMat\n",
    "        if i == 0.0\n",
    "            error(\"Resistane matrix must be on positive domain\")\n",
    "        end\n",
    "    end\n",
    "    \n",
    "    if size(caState) != size(resistanceMat)\n",
    "        error(\"CA State and Resistance state have size mismatch.\")\n",
    "    end\n",
    "    \n",
    "    invsum = Float64(0.0)\n",
    "    \n",
    "    for i in 1:length(resistanceMat)\n",
    "        if caState[i]\n",
    "            invsum += 1/resistanceMat[i]\n",
    "        end\n",
    "    end\n",
    "    \n",
    "    if invsum != 0\n",
    "        return 1/invsum\n",
    "    else\n",
    "        return Inf\n",
    "    end\n",
    "end"
   ]
  },
  {
   "cell_type": "code",
   "execution_count": 102,
   "metadata": {
    "collapsed": true
   },
   "outputs": [
    {
     "data": {
      "text/plain": [
       "20×20 Array{Float64,2}:\n",
       " 4000.0  4000.0  4000.0  4000.0  4000.0  …  4000.0  4000.0  4000.0  4000.0\n",
       " 4000.0  4000.0  4000.0  4000.0  4000.0     4000.0  4000.0  4000.0  4000.0\n",
       " 4000.0  4000.0  4000.0  4000.0  4000.0     4000.0  4000.0  4000.0  4000.0\n",
       " 4000.0  4000.0  4000.0  4000.0  4000.0     4000.0  4000.0  4000.0  4000.0\n",
       " 4000.0  4000.0  4000.0  4000.0  4000.0     4000.0  4000.0  4000.0  4000.0\n",
       " 4000.0  4000.0  4000.0  4000.0  4000.0  …  4000.0  4000.0  4000.0  4000.0\n",
       " 4000.0  4000.0  4000.0  4000.0  4000.0     4000.0  4000.0  4000.0  4000.0\n",
       " 4000.0  4000.0  4000.0  4000.0  4000.0     4000.0  4000.0  4000.0  4000.0\n",
       " 4000.0  4000.0  4000.0  4000.0  4000.0     4000.0  4000.0  4000.0  4000.0\n",
       " 4000.0  4000.0  4000.0  4000.0  4000.0     4000.0  4000.0  4000.0  4000.0\n",
       " 4000.0  4000.0  4000.0  4000.0  4000.0  …  4000.0  4000.0  4000.0  4000.0\n",
       " 4000.0  4000.0  4000.0  4000.0  4000.0     4000.0  4000.0  4000.0  4000.0\n",
       " 4000.0  4000.0  4000.0  4000.0  4000.0     4000.0  4000.0  4000.0  4000.0\n",
       " 4000.0  4000.0  4000.0  4000.0  4000.0     4000.0  4000.0  4000.0  4000.0\n",
       " 4000.0  4000.0  4000.0  4000.0  4000.0     4000.0  4000.0  4000.0  4000.0\n",
       " 4000.0  4000.0  4000.0  4000.0  4000.0  …  4000.0  4000.0  4000.0  4000.0\n",
       " 4000.0  4000.0  4000.0  4000.0  4000.0     4000.0  4000.0  4000.0  4000.0\n",
       " 4000.0  4000.0  4000.0  4000.0  4000.0     4000.0  4000.0  4000.0  4000.0\n",
       " 4000.0  4000.0  4000.0  4000.0  4000.0     4000.0  4000.0  4000.0  4000.0\n",
       " 4000.0  4000.0  4000.0  4000.0  4000.0     4000.0  4000.0  4000.0  4000.0"
      ]
     },
     "execution_count": 102,
     "metadata": {},
     "output_type": "execute_result"
    }
   ],
   "source": [
    "testR = ones(20,20) .* 4000"
   ]
  },
  {
   "cell_type": "code",
   "execution_count": 104,
   "metadata": {},
   "outputs": [
    {
     "data": {
      "text/plain": [
       "19.607843137254886"
      ]
     },
     "execution_count": 104,
     "metadata": {},
     "output_type": "execute_result"
    }
   ],
   "source": [
    "resistance(testca, testR)"
   ]
  },
  {
   "cell_type": "code",
   "execution_count": 107,
   "metadata": {},
   "outputs": [],
   "source": [
    "full_On = trues(20,20);\n",
    "full_Off = falses(20,20);"
   ]
  },
  {
   "cell_type": "code",
   "execution_count": 108,
   "metadata": {},
   "outputs": [
    {
     "data": {
      "text/plain": [
       "9.999999999999993"
      ]
     },
     "execution_count": 108,
     "metadata": {},
     "output_type": "execute_result"
    }
   ],
   "source": [
    "resistance(full_On, testR)"
   ]
  },
  {
   "cell_type": "code",
   "execution_count": 110,
   "metadata": {},
   "outputs": [
    {
     "data": {
      "text/plain": [
       "Inf"
      ]
     },
     "execution_count": 110,
     "metadata": {},
     "output_type": "execute_result"
    }
   ],
   "source": [
    "resistance(full_Off, testR)"
   ]
  },
  {
   "cell_type": "code",
   "execution_count": 114,
   "metadata": {},
   "outputs": [],
   "source": [
    "randR = 4000 .* rand(20,20) .+ 4000;"
   ]
  },
  {
   "cell_type": "code",
   "execution_count": 116,
   "metadata": {},
   "outputs": [
    {
     "data": {
      "text/plain": [
       "14.458441607824945"
      ]
     },
     "execution_count": 116,
     "metadata": {},
     "output_type": "execute_result"
    }
   ],
   "source": [
    "resistance(full_On, randR)"
   ]
  },
  {
   "cell_type": "code",
   "execution_count": 117,
   "metadata": {},
   "outputs": [
    {
     "data": {
      "text/plain": [
       "Inf"
      ]
     },
     "execution_count": 117,
     "metadata": {},
     "output_type": "execute_result"
    }
   ],
   "source": [
    "resistance(full_Off, randR)"
   ]
  },
  {
   "cell_type": "code",
   "execution_count": 118,
   "metadata": {},
   "outputs": [
    {
     "data": {
      "text/plain": [
       "28.293957035522673"
      ]
     },
     "execution_count": 118,
     "metadata": {},
     "output_type": "execute_result"
    }
   ],
   "source": [
    "resistance(testca, randR)"
   ]
  },
  {
   "cell_type": "markdown",
   "metadata": {},
   "source": [
    "# XOR verification"
   ]
  },
  {
   "cell_type": "code",
   "execution_count": 3,
   "metadata": {},
   "outputs": [
    {
     "data": {
      "text/plain": [
       "2-element view(::BitArray{1}, 1:2) with eltype Bool:\n",
       " true\n",
       " true"
      ]
     },
     "execution_count": 3,
     "metadata": {},
     "output_type": "execute_result"
    }
   ],
   "source": [
    "null = falses(8); a = falses(8); b = falses(8); ab = falses(8)\n",
    "a[1] = true\n",
    "b[2] = true\n",
    "ab[1:2] .= true"
   ]
  },
  {
   "cell_type": "code",
   "execution_count": 8,
   "metadata": {},
   "outputs": [
    {
     "data": {
      "text/plain": [
       "test_XOR_resistances (generic function with 1 method)"
      ]
     },
     "execution_count": 8,
     "metadata": {},
     "output_type": "execute_result"
    }
   ],
   "source": [
    "function test_XOR_resistances(rmat::Array{<:Real,2})\n",
    "    null = falses(8); a = falses(8); b = falses(8); ab = falses(8)\n",
    "    a[1] = true\n",
    "    b[2] = true\n",
    "    ab[1:2] .= true\n",
    "    \n",
    "    rule = 60\n",
    "    ca_null = CA(60, null, 7)\n",
    "    ca_a = CA(60, a, 7)\n",
    "    ca_b = CA(60, b, 7)\n",
    "    ca_ab = CA(60, ab, 7)\n",
    "    \n",
    "    return [resistance(ca_null, rmat), resistance(ca_a, rmat), resistance(ca_b, rmat), resistance(ca_ab, rmat)]\n",
    "end"
   ]
  },
  {
   "cell_type": "code",
   "execution_count": 9,
   "metadata": {},
   "outputs": [
    {
     "data": {
      "text/plain": [
       "4-element Array{Float64,1}:\n",
       " Inf               \n",
       " 234.95586020465754\n",
       " 222.6864739384345 \n",
       " 237.56518199675043"
      ]
     },
     "execution_count": 9,
     "metadata": {},
     "output_type": "execute_result"
    }
   ],
   "source": [
    "test_XOR_resistances(4000 .* rand(8,8) .+ 4000)"
   ]
  },
  {
   "cell_type": "code",
   "execution_count": 56,
   "metadata": {},
   "outputs": [
    {
     "data": {
      "text/plain": [
       "8×8 BitArray{2}:\n",
       "  true  false  false  false  false  false  false  false\n",
       "  true  false   true  false  false  false  false  false\n",
       " false  false  false  false  false  false  false  false\n",
       " false   true   true   true   true  false  false  false\n",
       " false  false  false   true  false   true  false  false\n",
       " false  false  false   true   true   true   true  false\n",
       " false  false  false  false   true  false   true  false\n",
       " false  false  false  false  false   true  false   true"
      ]
     },
     "execution_count": 56,
     "metadata": {},
     "output_type": "execute_result"
    }
   ],
   "source": [
    "    null = falses(8); a = falses(8); b = falses(8); ab = falses(8)\n",
    "    a[1] = true\n",
    "    b[2] = true\n",
    "    ab[1:2] .= true\n",
    "    \n",
    "    rule = 60\n",
    "    ca_null = CA(rule, null, 7)\n",
    "    ca_a = CA(rule, a, 7)\n",
    "    ca_b = CA(rule, b, 7)\n",
    "    ca_ab = CA(rule, ab, 7)"
   ]
  },
  {
   "cell_type": "code",
   "execution_count": 57,
   "metadata": {},
   "outputs": [
    {
     "data": {
      "image/png": "[encoded data removed]",
      "text/plain": [
       "Figure(PyObject <matplotlib.figure.Figure object at 0x7fdf2a4f8668>)"
      ]
     },
     "metadata": {},
     "output_type": "display_data"
    },
    {
     "data": {
      "text/plain": [
       "PyObject <matplotlib.image.AxesImage object at 0x7fdf2a443320>"
      ]
     },
     "execution_count": 57,
     "metadata": {},
     "output_type": "execute_result"
    }
   ],
   "source": [
    "imshow(ca_a)"
   ]
  },
  {
   "cell_type": "code",
   "execution_count": 43,
   "metadata": {},
   "outputs": [
    {
     "data": {
      "image/png": "[encoded data removed]",
      "text/plain": [
       "Figure(PyObject <matplotlib.figure.Figure object at 0x7fdf2aa2deb8>)"
      ]
     },
     "metadata": {},
     "output_type": "display_data"
    },
    {
     "data": {
      "text/plain": [
       "PyObject <matplotlib.image.AxesImage object at 0x7fdf5c539208>"
      ]
     },
     "execution_count": 43,
     "metadata": {},
     "output_type": "execute_result"
    }
   ],
   "source": [
    "imshow(rotr90(ca_b))"
   ]
  },
  {
   "cell_type": "code",
   "execution_count": 45,
   "metadata": {},
   "outputs": [
    {
     "data": {
      "image/png": "[encoded data removed]",
      "text/plain": [
       "Figure(PyObject <matplotlib.figure.Figure object at 0x7fdf2acfde10>)"
      ]
     },
     "metadata": {},
     "output_type": "display_data"
    },
    {
     "data": {
      "text/plain": [
       "PyObject <matplotlib.image.AxesImage object at 0x7fdf5c50ad68>"
      ]
     },
     "execution_count": 45,
     "metadata": {},
     "output_type": "execute_result"
    }
   ],
   "source": [
    "imshow(rotr90(ca_ab))"
   ]
  },
  {
   "cell_type": "code",
   "execution_count": 46,
   "metadata": {},
   "outputs": [
    {
     "data": {
      "image/png": "[encoded data removed]",
      "text/plain": [
       "Figure(PyObject <matplotlib.figure.Figure object at 0x7fdf5c51dc50>)"
      ]
     },
     "metadata": {},
     "output_type": "display_data"
    },
    {
     "data": {
      "text/plain": [
       "PyObject <matplotlib.colorbar.Colorbar object at 0x7fdf2a610cf8>"
      ]
     },
     "execution_count": 46,
     "metadata": {},
     "output_type": "execute_result"
    }
   ],
   "source": [
    "imshow(rotr90(ca_a .+ ca_b .- ca_ab))\n",
    "colorbar()"
   ]
  },
  {
   "cell_type": "markdown",
   "metadata": {},
   "source": [
    "Random -> OR"
   ]
  },
  {
   "cell_type": "code",
   "execution_count": 126,
   "metadata": {},
   "outputs": [
    {
     "data": {
      "text/plain": [
       "4000"
      ]
     },
     "execution_count": 126,
     "metadata": {},
     "output_type": "execute_result"
    }
   ],
   "source": [
    "xor_R = 100000 .* ones(8,8);\n",
    "xor_R[2,2] = 4000\n",
    "xor_R[1,3] = 4000"
   ]
  },
  {
   "cell_type": "code",
   "execution_count": 129,
   "metadata": {},
   "outputs": [
    {
     "data": {
      "image/png": "[encoded data removed]",
      "text/plain": [
       "Figure(PyObject <matplotlib.figure.Figure object at 0x7f9e396812e8>)"
      ]
     },
     "metadata": {},
     "output_type": "display_data"
    },
    {
     "name": "stderr",
     "output_type": "stream",
     "text": [
      "┌ Warning: The default `strides(a::AbstractArray)` implementation is deprecated for general arrays.\n",
      "│ Specialize `strides(::LinearAlgebra.Adjoint)` if `LinearAlgebra.Adjoint` indeed uses a strided representation in memory.\n",
      "│ Warning: inappropriately implementing this method for an array type that does not use strided\n",
      "│ storage may lead to incorrect results or segfaults.\n",
      "│   caller = stride at abstractarray.jl:350 [inlined]\n",
      "└ @ Core ./abstractarray.jl:350\n"
     ]
    },
    {
     "data": {
      "text/plain": [
       "PyObject <matplotlib.image.AxesImage object at 0x7f9e395ee630>"
      ]
     },
     "execution_count": 129,
     "metadata": {},
     "output_type": "execute_result"
    }
   ],
   "source": [
    "imshow(xor_R')"
   ]
  },
  {
   "cell_type": "code",
   "execution_count": 137,
   "metadata": {},
   "outputs": [
    {
     "data": {
      "text/plain": [
       "4-element Array{Float64,1}:\n",
       "  Inf              \n",
       " 1960.784313725488 \n",
       " 1960.7843137254877\n",
       " 3846.1538461538457"
      ]
     },
     "execution_count": 137,
     "metadata": {},
     "output_type": "execute_result"
    }
   ],
   "source": [
    "test_XOR_resistances(Matrix(transpose(xor_R)))"
   ]
  },
  {
   "cell_type": "code",
   "execution_count": 138,
   "metadata": {},
   "outputs": [
    {
     "data": {
      "text/plain": [
       "4000"
      ]
     },
     "execution_count": 138,
     "metadata": {},
     "output_type": "execute_result"
    }
   ],
   "source": [
    "xor_R = 100000 .* ones(8,8);\n",
    "xor_R[2,2] = 4000\n",
    "xor_R[1,3] = 4000\n",
    "xor_R[4,4] = 4000\n",
    "xor_R[2,5] = 4000\n",
    "xor_R[3,6] = 4000\n",
    "xor_R[3,7] = 4000"
   ]
  },
  {
   "cell_type": "code",
   "execution_count": 52,
   "metadata": {},
   "outputs": [
    {
     "data": {
      "text/plain": [
       "8-element view(::Array{Float64,2}, :, 8) with eltype Float64:\n",
       " 4000.0\n",
       " 4000.0\n",
       " 4000.0\n",
       " 4000.0\n",
       " 4000.0\n",
       " 4000.0\n",
       " 4000.0\n",
       " 4000.0"
      ]
     },
     "execution_count": 52,
     "metadata": {},
     "output_type": "execute_result"
    }
   ],
   "source": [
    "xor_R2 = 100000 .* ones(8,8);\n",
    "xor_R2[:,8] .= 4000"
   ]
  },
  {
   "cell_type": "code",
   "execution_count": 53,
   "metadata": {
    "scrolled": false
   },
   "outputs": [
    {
     "data": {
      "image/png": "[encoded data removed]",
      "text/plain": [
       "Figure(PyObject <matplotlib.figure.Figure object at 0x7fdf2a49fb00>)"
      ]
     },
     "metadata": {},
     "output_type": "display_data"
    },
    {
     "data": {
      "text/plain": [
       "PyObject <matplotlib.image.AxesImage object at 0x7fdf2a464048>"
      ]
     },
     "execution_count": 53,
     "metadata": {},
     "output_type": "execute_result"
    }
   ],
   "source": [
    "imshow(rotr90(xor_R2))"
   ]
  },
  {
   "cell_type": "code",
   "execution_count": 54,
   "metadata": {},
   "outputs": [
    {
     "data": {
      "text/plain": [
       "4-element Array{Float64,1}:\n",
       "  Inf               \n",
       "  456.62100456621005\n",
       "  456.62100456621005\n",
       " 3846.1538461538457 "
      ]
     },
     "execution_count": 54,
     "metadata": {},
     "output_type": "execute_result"
    }
   ],
   "source": [
    "test_XOR_resistances(xor_R2)"
   ]
  },
  {
   "cell_type": "code",
   "execution_count": 143,
   "metadata": {},
   "outputs": [],
   "source": [
    "r_range = [resistance(CA(60, convert(Array{Bool,1}, digits(i, base=2, pad=8)), 7), xor_R) for i in 0:255];"
   ]
  },
  {
   "cell_type": "code",
   "execution_count": 144,
   "metadata": {},
   "outputs": [
    {
     "data": {
      "image/png": "[encoded data removed]",
      "text/plain": [
       "Figure(PyObject <matplotlib.figure.Figure object at 0x7f9e3956a6a0>)"
      ]
     },
     "metadata": {},
     "output_type": "display_data"
    },
    {
     "data": {
      "text/plain": [
       "1-element Array{PyCall.PyObject,1}:\n",
       " PyObject <matplotlib.lines.Line2D object at 0x7f9e395389b0>"
      ]
     },
     "execution_count": 144,
     "metadata": {},
     "output_type": "execute_result"
    }
   ],
   "source": [
    "plot(r_range)"
   ]
  },
  {
   "cell_type": "code",
   "execution_count": 146,
   "metadata": {},
   "outputs": [
    {
     "data": {
      "image/png": "[encoded data removed]",
      "text/plain": [
       "Figure(PyObject <matplotlib.figure.Figure object at 0x7f9e39538b38>)"
      ]
     },
     "metadata": {},
     "output_type": "display_data"
    },
    {
     "data": {
      "text/plain": [
       "Dict{Any,Any} with 6 entries:\n",
       "  \"means\"    => Any[]\n",
       "  \"whiskers\" => PyCall.PyObject[PyObject <matplotlib.lines.Line2D object at 0x7…\n",
       "  \"fliers\"   => PyCall.PyObject[PyObject <matplotlib.lines.Line2D object at 0x7…\n",
       "  \"boxes\"    => PyCall.PyObject[PyObject <matplotlib.lines.Line2D object at 0x7…\n",
       "  \"caps\"     => PyCall.PyObject[PyObject <matplotlib.lines.Line2D object at 0x7…\n",
       "  \"medians\"  => PyCall.PyObject[PyObject <matplotlib.lines.Line2D object at 0x7…"
      ]
     },
     "execution_count": 146,
     "metadata": {},
     "output_type": "execute_result"
    }
   ],
   "source": [
    "boxplot(r_range)"
   ]
  },
  {
   "cell_type": "code",
   "execution_count": 145,
   "metadata": {},
   "outputs": [
    {
     "data": {
      "text/plain": [
       "(546.4480874316937, Inf)"
      ]
     },
     "execution_count": 145,
     "metadata": {},
     "output_type": "execute_result"
    }
   ],
   "source": [
    "extrema(r_range)"
   ]
  },
  {
   "cell_type": "markdown",
   "metadata": {},
   "source": []
  },
  {
   "cell_type": "code",
   "execution_count": null,
   "metadata": {},
   "outputs": [],
   "source": []
  }
 ],
 "metadata": {
  "kernelspec": {
   "display_name": "Julia 0.7.0",
   "language": "julia",
   "name": "julia-0.7"
  },
  "language_info": {
   "file_extension": ".jl",
   "mimetype": "application/julia",
   "name": "julia",
   "version": "0.7.0"
  }
 },
 "nbformat": 4,
 "nbformat_minor": 2
}
